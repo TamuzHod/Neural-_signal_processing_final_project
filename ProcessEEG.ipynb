{
 "cells": [
  {
   "cell_type": "code",
   "execution_count": 1,
   "metadata": {},
   "outputs": [],
   "source": [
    "import pandas as pd\n",
    "import scipy as sci\n",
    "import numpy as np\n",
    "import matplotlib.pyplot as plt\n",
    "from scipy import io, signal\n",
    "from scipy.signal import butter, lfilter\n",
    "import datetime\n",
    "from scipy.signal import iirfilter\n",
    "%matplotlib inline"
   ]
  },
  {
   "cell_type": "code",
   "execution_count": 2,
   "metadata": {},
   "outputs": [],
   "source": [
    "TP_L = 0\n",
    "IF_L = 1\n",
    "IF_R = 2\n",
    "TP_R = 3\n",
    "BASELINE = 4\n",
    "channal_name = []\n",
    "channal_name.append(\"TP_L\")\n",
    "channal_name.append(\"IF_L\")\n",
    "channal_name.append(\"IF_R\")\n",
    "channal_name.append(\"TP_R\")\n",
    "channal_name.append(\"BASELINE\")\n",
    "\n"
   ]
  },
  {
   "cell_type": "code",
   "execution_count": null,
   "metadata": {},
   "outputs": [],
   "source": []
  },
  {
   "cell_type": "code",
   "execution_count": 3,
   "metadata": {},
   "outputs": [],
   "source": [
    "eegF1_df = pd.read_json('file:eegData_F1.json')\n",
    "eegF2_df = pd.read_json('file:eegData_F2.json')\n",
    "eegF3_df = pd.read_json('file:eegData_F3.json')\n",
    "eegM1_df = pd.read_json('file:eegData_M1.json')\n",
    "eegM2_df = pd.read_json('file:eegData_M2.json')\n",
    "eegM3_df = pd.read_json('file:eegData_M3.json')\n",
    "eegM4_df = pd.read_json('file:eegData_M4.json')\n",
    "eegM5_df = pd.read_json('file:eegData_M5.json')\n",
    "\n",
    "eventF1_df = pd.read_json('file:Event_F1.json')\n",
    "eventF2_df = pd.read_json('file:Event_F2.json')\n",
    "eventF3_df = pd.read_json('file:Event_F3.json')\n",
    "eventM1_df = pd.read_json('file:Event_M1.json')\n",
    "eventM2_df = pd.read_json('file:Event_M2.json')\n",
    "eventM3_df = pd.read_json('file:Event_M3.json')\n",
    "eventM4_df = pd.read_json('file:Event_M4.json')\n",
    "eventM5_df = pd.read_json('file:Event_M5.json')\n",
    "\n",
    "accelF1_df = pd.read_json('file:accelerometerJson_F1.json')\n",
    "accelM1_df = pd.read_json('file:accelerometerJson_M1.json')\n",
    "fs = 256\n",
    "eventM1_df = eventM1_df[['value', 'timestamp']]\n",
    "participants_eeg = [eegF2_df, eegF3_df, eegM3_df, eegM4_df,eegM5_df]\n",
    "participants_event = [eventF2_df,eventF3_df,eventM3_df,eventM4_df,eventM5_df]"
   ]
  },
  {
   "cell_type": "code",
   "execution_count": 4,
   "metadata": {},
   "outputs": [],
   "source": [
    "def butter_bandpass(lowcut, highcut, fs, order=5):\n",
    "    nyq = 0.5 * fs\n",
    "    low = lowcut / nyq\n",
    "    high = highcut / nyq\n",
    "    b, a = butter(order, [low, high], btype='band')\n",
    "    return b, a\n",
    "\n",
    "\n",
    "def butter_bandpass_filter(data, lowcut, highcut, fs, order=5):\n",
    "    b, a = butter_bandpass(lowcut, highcut, fs, order=order)\n",
    "    y = lfilter(b, a, data)\n",
    "    return y\n",
    "\n",
    "def notch_filter_60hz(data, fs, band_width=2, freq=60, order=3, filter_type='butter'):\n",
    "    nyq  = fs/2.0\n",
    "    low  = freq - band_width/2.0\n",
    "    high = freq + band_width/2.0\n",
    "    low  = low/nyq\n",
    "    high = high/nyq\n",
    "    b, a = iirfilter(order, [low, high], btype='bandstop',\n",
    "                     analog=False, ftype=filter_type)\n",
    "    filtered_data = lfilter(b, a, data)\n",
    "    return filtered_data\n",
    "\n",
    "\n",
    "def clean_data(data, fs):\n",
    "#    mean = np.mean(data)\n",
    "#    data = data - mean\n",
    "#    data = notch_filter_60hz(data,fs)\n",
    "    data = butter_bandpass_filter(data, .5, 15, fs)\n",
    "    return data\n",
    "\n",
    "def discard_first_trial(eventlist):\n",
    "    eventlist = np.delete(eventlist,0,1)\n",
    "    return eventlist\n"
   ]
  },
  {
   "cell_type": "code",
   "execution_count": 5,
   "metadata": {},
   "outputs": [],
   "source": [
    "def datetime_to_float(d):\n",
    "    epoch = datetime.datetime.utcfromtimestamp(0)\n",
    "    total_seconds =  (d - epoch).total_seconds()\n",
    "    # total_seconds will be in decimals (millisecond precision)\n",
    "    return total_seconds\n",
    "\n",
    "def compute_EEG_indices(event_timestamps, fs):\n",
    "    indices = np.array([int(i * fs) for i in event_timestamps]).astype(int)\n",
    "    return indices\n",
    "\n",
    "def find_nearest(array,value):\n",
    "    idx,val = min(enumerate(array), key=lambda x: abs(x[1]-value))\n",
    "    return idx"
   ]
  },
  {
   "cell_type": "code",
   "execution_count": 6,
   "metadata": {},
   "outputs": [],
   "source": [
    "def process_eeg_dataframe(df):\n",
    "    df_raw_time_vector = df[df['electrode'] == 0]['timestamp'].to_numpy()\n",
    "    time_spacing = []\n",
    "    \n",
    "    for i in np.arange(1,len(df_raw_time_vector)):\n",
    "        time_spacing.append(df_raw_time_vector[i]-df_raw_time_vector[i-1])\n",
    "\n",
    "        if(i>1):\n",
    "            if(not time_spacing[i-1] == time_spacing[i-2]):\n",
    "                print(time_spacing[i-1],time_spacing[i-2])\n",
    "\n",
    "    dt_stamp = time_spacing[0]\n",
    "    dt = dt_stamp / np.timedelta64(1, 's')\n",
    "    \n",
    "    T = df_raw_time_vector[-1] - df_raw_time_vector[0] + dt_stamp\n",
    "    T = T / np.timedelta64(1, 's')\n",
    "\n",
    "    time_vector = np.arange(0,T,dt/12)\n",
    "    \n",
    "    channel_list = []\n",
    "    eeg_channels = []\n",
    "    for channel in np.arange(5):\n",
    "        channel_list.append(df[df['electrode'] == channel])\n",
    "        eeg_temp = channel_list[channel]['samples'].tolist()\n",
    "        eeg = []\n",
    "        for a in eeg_temp:\n",
    "            for b in a:\n",
    "                eeg.append(b)\n",
    "        eeg_channels.append(clean_data(np.array(eeg),fs))\n",
    "#        print('shape of channel ',channel,': ',eeg_channels[channel].shape)\n",
    "    eeg_channels = np.array(eeg_channels).squeeze()\n",
    "    return time_vector,eeg_channels,T"
   ]
  },
  {
   "cell_type": "code",
   "execution_count": 7,
   "metadata": {},
   "outputs": [],
   "source": [
    "def process_event_dataframe(df,start_time):\n",
    "    data = df.to_numpy()\n",
    "    for i in np.arange(len(data)):\n",
    "        data[i,1] = (datetime_to_float(df[\"timestamp\"][i]) - start_time)\n",
    "    return data.T\n",
    "\n",
    "def first_timestamp(df):\n",
    "    timestamp = df['timestamp'][0]\n",
    "    return timestamp"
   ]
  },
  {
   "cell_type": "code",
   "execution_count": 8,
   "metadata": {},
   "outputs": [],
   "source": [
    "def grab_epoch(data, index, fs, len_pre, len_post):\n",
    "    epoch = np.array([i for i in data[(index+int(len_pre*fs) if index+int(len_pre*fs) >= 0 else 0):index+(len_post*fs)]])\n",
    "    return epoch\n",
    "\n",
    "def get_windows(data, indices, fs, len_pre, len_post):\n",
    "    epoch_list = []\n",
    "    for index in indices:\n",
    "        epoch = []\n",
    "        if index+int(len_pre*fs) < 0 or index+int(len_post*fs) >= len(data): \n",
    "            continue\n",
    "        start = index+int(len_pre*fs) \n",
    "        end = index+int(len_post*fs)\n",
    "        baseline = np.mean(data[start:index])\n",
    "        normalizer = np.mean(np.abs(data[start:index]))\n",
    "        for value in data[start:end]:\n",
    "            epoch.append(value - baseline)\n",
    "        normalizer = np.mean(np.abs(data[start:index]))\n",
    "        for i in len(epoch):\n",
    "            epoch[i] = epoch[i]/normalizer\n",
    "        if(np.var(epoch) > 200):\n",
    "            continue\n",
    "        epoch_list.append(epoch)\n",
    "    return np.array(epoch_list)"
   ]
  },
  {
   "cell_type": "code",
   "execution_count": null,
   "metadata": {},
   "outputs": [],
   "source": []
  },
  {
   "cell_type": "code",
   "execution_count": 9,
   "metadata": {},
   "outputs": [],
   "source": [
    "time_vector_list = []\n",
    "eeg_list = []\n",
    "length_list = []\n",
    "event_list = []\n",
    "\n",
    "for i in np.arange(len(participants_eeg)):\n",
    "#    print(i)\n",
    "    time_vector,eeg,T = process_eeg_dataframe(participants_eeg[i])\n",
    "    time_vector_list.append(time_vector)\n",
    "    eeg_list.append(eeg)\n",
    "    length_list.append(T)\n",
    "    event = process_event_dataframe(participants_event[i],datetime_to_float(first_timestamp(participants_eeg[i])))\n",
    "    event[1] = compute_EEG_indices(event[1], fs)\n",
    "    event = discard_first_trial(event)\n",
    "    event_list.append(event)\n"
   ]
  },
  {
   "cell_type": "code",
   "execution_count": 10,
   "metadata": {},
   "outputs": [
    {
     "name": "stdout",
     "output_type": "stream",
     "text": [
      "M1 offset: 11.270625114440918\n",
      "M2 offset: 11.25\n",
      "M3 offset: -3165.8001251220703\n",
      "M4 offset: 3174.6126248836517\n",
      "M5 offset: 4.40625\n",
      "F1 offset: 611.2706251144409\n",
      "F2 offset: 4.40625\n",
      "F3 offset: 4.453125\n",
      "Target offset: 4.4062498807907104\n",
      "811572\n",
      "-811572\n"
     ]
    }
   ],
   "source": [
    "M1_offset = datetime_to_float(eventM1_df[\"timestamp\"][0]) - datetime_to_float(first_timestamp(eegM1_df))\n",
    "M2_offset = datetime_to_float(eventM2_df[\"timestamp\"][0]) - datetime_to_float(first_timestamp(eegM2_df))\n",
    "M3_offset = datetime_to_float(eventM3_df[\"timestamp\"][0]) - datetime_to_float(first_timestamp(eegM3_df))\n",
    "M4_offset = datetime_to_float(eventM4_df[\"timestamp\"][0]) - datetime_to_float(first_timestamp(eegM4_df))\n",
    "M5_offset = datetime_to_float(eventM5_df[\"timestamp\"][0]) - datetime_to_float(first_timestamp(eegM5_df))\n",
    "F1_offset = datetime_to_float(eventF1_df[\"timestamp\"][0]) - datetime_to_float(first_timestamp(eegF1_df))\n",
    "F2_offset = datetime_to_float(eventF2_df[\"timestamp\"][0]) - datetime_to_float(first_timestamp(eegF2_df))\n",
    "F3_offset = datetime_to_float(eventF3_df[\"timestamp\"][0]) - datetime_to_float(first_timestamp(eegF3_df))\n",
    "\n",
    "print('M1 offset: ' + str(M1_offset))\n",
    "print('M2 offset: ' + str(M2_offset))\n",
    "print('M3 offset: ' + str(M3_offset))\n",
    "print('M4 offset: ' + str(M4_offset))\n",
    "print('M5 offset: ' + str(M5_offset))\n",
    "print('F1 offset: ' + str(F1_offset))\n",
    "print('F2 offset: ' + str(F2_offset))\n",
    "print('F3 offset: ' + str(F3_offset))\n",
    "\n",
    "target_offset = (M3_offset + M4_offset)/2\n",
    "print('Target offset: ' + str(target_offset))\n",
    "\n",
    "m3_offset_shift = target_offset - M3_offset\n",
    "m4_offset_shift = target_offset - M4_offset\n",
    "\n",
    "m3_index_shift = int(fs * m3_offset_shift)\n",
    "m4_index_shift = int(fs * m4_offset_shift)\n",
    "\n",
    "print(m3_index_shift)\n",
    "print(m4_index_shift)\n",
    "\n",
    "# note: fix indices for M3 and M4"
   ]
  },
  {
   "cell_type": "code",
   "execution_count": 11,
   "metadata": {},
   "outputs": [
    {
     "name": "stdout",
     "output_type": "stream",
     "text": [
      "[-809316 -808176 -807048 -805908 -804780 -803652 -802512 -801384 -800244\n",
      " -799116 -797988 -796848 -795720 -794580 -793452 -792324 -791184 -790056\n",
      " -788916 -787788 -786660 -785520 -784392 -783252 -782124 -780996 -779856\n",
      " -778728 -777588 -776460 -775332 -774192 -773064 -771924 -770796 -769668\n",
      " -768528]\n",
      "[2256 3396 4524 5664 6792 7920 9060 10188 11328 12456 13584 14724 15852\n",
      " 16992 18120 19248 20388 21516 22656 23784 24912 26052 27180 28320 29448\n",
      " 30576 31716 32844 33984 35112 36240 37380 38508 39648 40776 41904 43044]\n"
     ]
    }
   ],
   "source": [
    "print(event_list[2][1])\n",
    "event_list[2][1] = event_list[2][1] + m3_index_shift\n",
    "print(event_list[2][1])"
   ]
  },
  {
   "cell_type": "code",
   "execution_count": 12,
   "metadata": {},
   "outputs": [
    {
     "name": "stdout",
     "output_type": "stream",
     "text": [
      "[813828 814968 816096 817224 818364 819492 820632 821760 822888 824028\n",
      " 825156 826296 827424 828552 829692 830820 831960 833088 834216 835356\n",
      " 836484 837624 838752 839880 841020 842148 843288 844416 845544 846684\n",
      " 847812 848952 850080 851208 852348 853476 854616]\n",
      "[2256 3396 4524 5652 6792 7920 9060 10188 11316 12456 13584 14724 15852\n",
      " 16980 18120 19248 20388 21516 22644 23784 24912 26052 27180 28308 29448\n",
      " 30576 31716 32844 33972 35112 36240 37380 38508 39636 40776 41904 43044]\n"
     ]
    }
   ],
   "source": [
    "print(event_list[3][1])\n",
    "event_list[3][1] = event_list[3][1] + m4_index_shift\n",
    "print(event_list[3][1])"
   ]
  },
  {
   "cell_type": "code",
   "execution_count": 13,
   "metadata": {},
   "outputs": [],
   "source": [
    "len_pre = -1\n",
    "len_post = 2"
   ]
  },
  {
   "cell_type": "code",
   "execution_count": 14,
   "metadata": {},
   "outputs": [
    {
     "ename": "TypeError",
     "evalue": "'int' object is not iterable",
     "output_type": "error",
     "traceback": [
      "\u001b[1;31m---------------------------------------------------------------------------\u001b[0m",
      "\u001b[1;31mTypeError\u001b[0m                                 Traceback (most recent call last)",
      "\u001b[1;32m<ipython-input-14-ddf403bdab67>\u001b[0m in \u001b[0;36m<module>\u001b[1;34m\u001b[0m\n\u001b[0;32m     22\u001b[0m \u001b[1;32mfor\u001b[0m \u001b[0mparticipant\u001b[0m \u001b[1;32min\u001b[0m \u001b[0mnp\u001b[0m\u001b[1;33m.\u001b[0m\u001b[0marange\u001b[0m\u001b[1;33m(\u001b[0m\u001b[0mlen\u001b[0m\u001b[1;33m(\u001b[0m\u001b[0meeg_list\u001b[0m\u001b[1;33m)\u001b[0m\u001b[1;33m)\u001b[0m\u001b[1;33m:\u001b[0m\u001b[1;33m\u001b[0m\u001b[1;33m\u001b[0m\u001b[0m\n\u001b[0;32m     23\u001b[0m     \u001b[1;32mfor\u001b[0m \u001b[0mchannel\u001b[0m \u001b[1;32min\u001b[0m \u001b[0mnp\u001b[0m\u001b[1;33m.\u001b[0m\u001b[0marange\u001b[0m\u001b[1;33m(\u001b[0m\u001b[1;36m5\u001b[0m\u001b[1;33m)\u001b[0m\u001b[1;33m:\u001b[0m\u001b[1;33m\u001b[0m\u001b[1;33m\u001b[0m\u001b[0m\n\u001b[1;32m---> 24\u001b[1;33m         \u001b[0mcat_windows\u001b[0m \u001b[1;33m=\u001b[0m \u001b[0mnp\u001b[0m\u001b[1;33m.\u001b[0m\u001b[0marray\u001b[0m\u001b[1;33m(\u001b[0m\u001b[0mget_windows\u001b[0m\u001b[1;33m(\u001b[0m\u001b[0meeg_list\u001b[0m\u001b[1;33m[\u001b[0m\u001b[0mparticipant\u001b[0m\u001b[1;33m]\u001b[0m\u001b[1;33m[\u001b[0m\u001b[0mchannel\u001b[0m\u001b[1;33m]\u001b[0m\u001b[1;33m,\u001b[0m \u001b[0mcat_index\u001b[0m\u001b[1;33m[\u001b[0m\u001b[0mparticipant\u001b[0m\u001b[1;33m]\u001b[0m\u001b[1;33m,\u001b[0m \u001b[0mfs\u001b[0m\u001b[1;33m,\u001b[0m \u001b[0mlen_pre\u001b[0m\u001b[1;33m,\u001b[0m \u001b[0mlen_post\u001b[0m\u001b[1;33m)\u001b[0m\u001b[1;33m)\u001b[0m\u001b[1;33m\u001b[0m\u001b[1;33m\u001b[0m\u001b[0m\n\u001b[0m\u001b[0;32m     25\u001b[0m         \u001b[0mcat_windows\u001b[0m \u001b[1;33m=\u001b[0m \u001b[0mcat_windows\u001b[0m \u001b[1;33m/\u001b[0m \u001b[0mnp\u001b[0m\u001b[1;33m.\u001b[0m\u001b[0mmean\u001b[0m\u001b[1;33m(\u001b[0m\u001b[0mnp\u001b[0m\u001b[1;33m.\u001b[0m\u001b[0mabs\u001b[0m\u001b[1;33m(\u001b[0m\u001b[0mcat_windows\u001b[0m\u001b[1;33m)\u001b[0m\u001b[1;33m)\u001b[0m\u001b[1;33m\u001b[0m\u001b[1;33m\u001b[0m\u001b[0m\n\u001b[0;32m     26\u001b[0m         \u001b[0msnake_windows\u001b[0m \u001b[1;33m=\u001b[0m \u001b[0mnp\u001b[0m\u001b[1;33m.\u001b[0m\u001b[0marray\u001b[0m\u001b[1;33m(\u001b[0m\u001b[0mget_windows\u001b[0m\u001b[1;33m(\u001b[0m\u001b[0meeg_list\u001b[0m\u001b[1;33m[\u001b[0m\u001b[0mparticipant\u001b[0m\u001b[1;33m]\u001b[0m\u001b[1;33m[\u001b[0m\u001b[0mchannel\u001b[0m\u001b[1;33m]\u001b[0m\u001b[1;33m,\u001b[0m \u001b[0msnake_index\u001b[0m\u001b[1;33m[\u001b[0m\u001b[0mparticipant\u001b[0m\u001b[1;33m]\u001b[0m\u001b[1;33m,\u001b[0m \u001b[0mfs\u001b[0m\u001b[1;33m,\u001b[0m \u001b[0mlen_pre\u001b[0m\u001b[1;33m,\u001b[0m \u001b[0mlen_post\u001b[0m\u001b[1;33m)\u001b[0m\u001b[1;33m)\u001b[0m\u001b[1;33m\u001b[0m\u001b[1;33m\u001b[0m\u001b[0m\n",
      "\u001b[1;32m<ipython-input-8-4708e8c953cb>\u001b[0m in \u001b[0;36mget_windows\u001b[1;34m(data, indices, fs, len_pre, len_post)\u001b[0m\n\u001b[0;32m     16\u001b[0m             \u001b[0mepoch\u001b[0m\u001b[1;33m.\u001b[0m\u001b[0mappend\u001b[0m\u001b[1;33m(\u001b[0m\u001b[0mvalue\u001b[0m \u001b[1;33m-\u001b[0m \u001b[0mbaseline\u001b[0m\u001b[1;33m)\u001b[0m\u001b[1;33m\u001b[0m\u001b[1;33m\u001b[0m\u001b[0m\n\u001b[0;32m     17\u001b[0m         \u001b[0mnormalizer\u001b[0m \u001b[1;33m=\u001b[0m \u001b[0mnp\u001b[0m\u001b[1;33m.\u001b[0m\u001b[0mmean\u001b[0m\u001b[1;33m(\u001b[0m\u001b[0mnp\u001b[0m\u001b[1;33m.\u001b[0m\u001b[0mabs\u001b[0m\u001b[1;33m(\u001b[0m\u001b[0mdata\u001b[0m\u001b[1;33m[\u001b[0m\u001b[0mstart\u001b[0m\u001b[1;33m:\u001b[0m\u001b[0mindex\u001b[0m\u001b[1;33m]\u001b[0m\u001b[1;33m)\u001b[0m\u001b[1;33m)\u001b[0m\u001b[1;33m\u001b[0m\u001b[1;33m\u001b[0m\u001b[0m\n\u001b[1;32m---> 18\u001b[1;33m         \u001b[1;32mfor\u001b[0m \u001b[0mi\u001b[0m \u001b[1;32min\u001b[0m \u001b[0mlen\u001b[0m\u001b[1;33m(\u001b[0m\u001b[0mepoch\u001b[0m\u001b[1;33m)\u001b[0m\u001b[1;33m:\u001b[0m\u001b[1;33m\u001b[0m\u001b[1;33m\u001b[0m\u001b[0m\n\u001b[0m\u001b[0;32m     19\u001b[0m             \u001b[0mepoch\u001b[0m\u001b[1;33m[\u001b[0m\u001b[0mi\u001b[0m\u001b[1;33m]\u001b[0m \u001b[1;33m=\u001b[0m \u001b[0mepoch\u001b[0m\u001b[1;33m[\u001b[0m\u001b[0mi\u001b[0m\u001b[1;33m]\u001b[0m\u001b[1;33m/\u001b[0m\u001b[0mnormalizer\u001b[0m\u001b[1;33m\u001b[0m\u001b[1;33m\u001b[0m\u001b[0m\n\u001b[0;32m     20\u001b[0m         \u001b[1;32mif\u001b[0m\u001b[1;33m(\u001b[0m\u001b[0mnp\u001b[0m\u001b[1;33m.\u001b[0m\u001b[0mvar\u001b[0m\u001b[1;33m(\u001b[0m\u001b[0mepoch\u001b[0m\u001b[1;33m)\u001b[0m \u001b[1;33m>\u001b[0m \u001b[1;36m200\u001b[0m\u001b[1;33m)\u001b[0m\u001b[1;33m:\u001b[0m\u001b[1;33m\u001b[0m\u001b[1;33m\u001b[0m\u001b[0m\n",
      "\u001b[1;31mTypeError\u001b[0m: 'int' object is not iterable"
     ]
    }
   ],
   "source": [
    "cat_index = []\n",
    "snake_index = []\n",
    "\n",
    "for i in np.arange(len(eeg_list)):\n",
    "    cat_index.append([])\n",
    "    snake_index.append([])            \n",
    "\n",
    "epochs_cat = [[],[],[],[],[]]\n",
    "epochs_snake = [[],[],[],[],[]]\n",
    "\n",
    "\n",
    "for participant in np.arange(len(eeg_list)):\n",
    "    for i in np.arange(len(event_list[participant][0])):\n",
    "#        print(participant,i)\n",
    "        if(event_list[participant][0][i] < 12):\n",
    "            cat_index[participant].append(event_list[participant][1][i])\n",
    "        else:\n",
    "            snake_index[participant].append(event_list[participant][1][i])\n",
    "\n",
    "\n",
    "\n",
    "for participant in np.arange(len(eeg_list)):\n",
    "    for channel in np.arange(5):\n",
    "        cat_windows = np.array(get_windows(eeg_list[participant][channel], cat_index[participant], fs, len_pre, len_post))\n",
    "        cat_windows = cat_windows / np.mean(np.abs(cat_windows))\n",
    "        snake_windows = np.array(get_windows(eeg_list[participant][channel], snake_index[participant], fs, len_pre, len_post))\n",
    "        snake_windows = snake_windows / np.mean(np.abs(snake_windows))\n",
    "        for epoch in cat_windows:\n",
    "            epochs_cat[channel].append(epoch)\n",
    "        for epoch in snake_windows:\n",
    "            epochs_snake[channel].append(epoch)    \n",
    "        \n",
    "epochs_cat = np.array(epochs_cat)\n",
    "\n",
    "epochs_snake = np.array(epochs_snake)\n"
   ]
  },
  {
   "cell_type": "code",
   "execution_count": null,
   "metadata": {},
   "outputs": [],
   "source": [
    "epochs_cat.shape"
   ]
  },
  {
   "cell_type": "code",
   "execution_count": null,
   "metadata": {},
   "outputs": [],
   "source": [
    "for channel in np.arange(5):\n",
    "    for participant in np.arange(len(eeg_list)):\n",
    "        cat_windows = np.array(get_windows(eeg_list[participant][channel], cat_index[participant], fs, len_pre, len_post))\n",
    "        cat_windows = cat_windows / np.mean(np.abs(cat_windows))\n",
    "        snake_windows = np.array(get_windows(eeg_list[participant][channel], snake_index[participant], fs, len_pre, len_post))\n",
    "        snake_windows = snake_windows / np.mean(np.abs(snake_windows))\n",
    "        for epoch in cat_windows:\n",
    "            epochs_cat[channel].append(epoch)\n",
    "        for epoch in snake_windows:\n",
    "            epochs_snake[channel].append(epoch)    "
   ]
  },
  {
   "cell_type": "code",
   "execution_count": null,
   "metadata": {},
   "outputs": [],
   "source": [
    "#cat_index[participant]\n",
    "\n",
    "\n",
    "    "
   ]
  },
  {
   "cell_type": "code",
   "execution_count": null,
   "metadata": {},
   "outputs": [],
   "source": [
    "#cat_index\n",
    "#snake_index\n",
    "#epochs_cat\n",
    "#epochs_snake\n",
    "print(np.array(epochs_cat[0]).shape)\n",
    "print(np.array(epochs_snake[0]).shape)\n",
    "print(np.mean(epochs_cat[0]))\n"
   ]
  },
  {
   "cell_type": "code",
   "execution_count": null,
   "metadata": {},
   "outputs": [],
   "source": []
  },
  {
   "cell_type": "code",
   "execution_count": null,
   "metadata": {
    "scrolled": true
   },
   "outputs": [],
   "source": [
    "\n",
    "cat_average = []\n",
    "snake_average = []\n",
    "for channel in np.arange(5):\n",
    "#    print(np.array(epochs_cat[channel]).shape)\n",
    "    cat_average.append(np.mean(epochs_cat[channel], axis=0))\n",
    "    snake_average.append(np.mean(epochs_snake[channel], axis=0))\n",
    "\n",
    "cat_average= np.array(cat_average)\n",
    "snake_average= np.array(snake_average)\n",
    "\n",
    "epoch_time = np.arange(len_pre, len_post, 1/fs)"
   ]
  },
  {
   "cell_type": "code",
   "execution_count": null,
   "metadata": {},
   "outputs": [],
   "source": []
  },
  {
   "cell_type": "code",
   "execution_count": null,
   "metadata": {
    "scrolled": true
   },
   "outputs": [],
   "source": [
    "for i in range(0,len(channal_name)):\n",
    "    # plot STA\n",
    "    plt.figure(figsize=(12,5))\n",
    "    plt.plot(epoch_time, cat_average[i], '-', label = \"cat \" + channal_name[i])\n",
    "    plt.plot(epoch_time, snake_average[i], '-', label = \"snake \" + channal_name[i])\n",
    "    plt.xlabel('time (s)'); plt.ylabel('Voltage (v)');\n",
    "    plt.legend()\n"
   ]
  },
  {
   "cell_type": "code",
   "execution_count": null,
   "metadata": {
    "scrolled": true
   },
   "outputs": [],
   "source": [
    "\n",
    "#post-stimulus\n",
    "cat_fft_post = [np.fft.fft(cat_average[i][int(-len_pre*fs):]) for i in range(0,5)]\n",
    "snake_fft_post = [np.fft.fft(snake_average[i][int(-len_pre*fs):]) for i in range(0,5)]\n",
    "\n",
    "cat_power_post = [np.abs(cat_fft_post[i])**2 for i in range(0,5)]\n",
    "snake_power_post = [np.abs(snake_fft_post[i])**2 for i in range(0,5)]\n",
    "\n",
    "fft_freqs_post = np.fft.fftfreq(np.array(cat_fft_post).shape[-1],1/fs)\n",
    "\n",
    "#pre-stimulus\n",
    "cat_fft_pre = [np.fft.fft(cat_average[i][:int(-len_pre*fs)]) for i in range(0,5)]\n",
    "snake_fft_pre = [np.fft.fft(snake_average[i][:int(-len_pre*fs)]) for i in range(0,5)]\n",
    "\n",
    "cat_power_pre = [np.abs(cat_fft_pre[i])**2 for i in range(0,5)]\n",
    "snake_power_pre = [np.abs(snake_fft_pre[i])**2 for i in range(0,5)]\n",
    "\n",
    "fft_freqs_pre = np.fft.fftfreq(np.array(cat_fft_pre).shape[-1],1/fs)"
   ]
  },
  {
   "cell_type": "code",
   "execution_count": null,
   "metadata": {},
   "outputs": [],
   "source": [
    "plt.figure(figsize=(10,10))\n",
    "plt.subplot(2,2,1)\n",
    "plt.plot(fft_freqs_pre[1:],cat_power_pre[0][1:],'-', label='pre')\n",
    "plt.plot(fft_freqs_post[1:],cat_power_post[0][1:],'-', label='post')\n",
    "plt.yscale('log')\n",
    "plt.xlim(0,16)\n",
    "plt.title('left temporal cat')\n",
    "plt.legend()\n",
    "\n",
    "plt.subplot(2,2,2)\n",
    "plt.plot(fft_freqs_pre[1:],snake_power_pre[0][1:],'-', label='pre')\n",
    "plt.plot(fft_freqs_post[1:],snake_power_post[0][1:],'-', label='post')\n",
    "plt.yscale('log')\n",
    "plt.xlim(0,16)\n",
    "plt.title('left temporal snake')\n",
    "plt.legend()\n",
    "\n",
    "\n",
    "plt.subplot(2,2,3)\n",
    "plt.plot(fft_freqs_pre[1:],cat_power_pre[3][1:],'-', label='pre')\n",
    "plt.plot(fft_freqs_post[1:],cat_power_post[3][1:],'-', label='post')\n",
    "plt.yscale('log')\n",
    "plt.xlim(0,16)\n",
    "plt.title('right temporal cat')\n",
    "plt.legend()\n",
    "\n",
    "plt.subplot(2,2,4)\n",
    "plt.plot(fft_freqs_pre[1:],snake_power_pre[3][1:],'-', label='pre')\n",
    "plt.plot(fft_freqs_post[1:],snake_power_post[3][1:],'-', label='post')\n",
    "plt.yscale('log')\n",
    "plt.xlim(0,16)\n",
    "plt.title('right temporal snake')\n",
    "plt.legend()"
   ]
  },
  {
   "cell_type": "code",
   "execution_count": null,
   "metadata": {
    "scrolled": true
   },
   "outputs": [],
   "source": [
    "plt.figure(figsize=(10,10))\n",
    "plt.subplot(2,2,1)\n",
    "plt.plot(fft_freqs_pre[1:],cat_power_pre[1][1:],'-', label='pre')\n",
    "plt.plot(fft_freqs_post[1:],cat_power_post[1][1:],'-', label='post')\n",
    "plt.yscale('log')\n",
    "plt.xlim(0,16)\n",
    "plt.title('left anterior frontal cat')\n",
    "plt.legend()\n",
    "\n",
    "plt.subplot(2,2,2)\n",
    "plt.plot(fft_freqs_pre[1:],snake_power_pre[1][1:],'-', label='pre')\n",
    "plt.plot(fft_freqs_post[1:],snake_power_post[1][1:],'-', label='post')\n",
    "plt.yscale('log')\n",
    "plt.xlim(0,16)\n",
    "plt.title('left anterior frontal snake')\n",
    "plt.legend()\n",
    "\n",
    "\n",
    "plt.subplot(2,2,3)\n",
    "plt.plot(fft_freqs_pre[1:],cat_power_pre[3][1:],'-', label='pre')\n",
    "plt.plot(fft_freqs_post[1:],cat_power_post[3][1:],'-', label='post')\n",
    "plt.yscale('log')\n",
    "plt.xlim(0,16)\n",
    "plt.title('right anterior frontal cat')\n",
    "plt.legend()\n",
    "\n",
    "plt.subplot(2,2,4)\n",
    "plt.plot(fft_freqs_pre[1:],snake_power_pre[3][1:],'-', label='pre')\n",
    "plt.plot(fft_freqs_post[1:],snake_power_post[3][1:],'-', label='post')\n",
    "plt.yscale('log')\n",
    "plt.xlim(0,16)\n",
    "plt.title('right anterior frontal snake')\n",
    "plt.legend()"
   ]
  },
  {
   "cell_type": "code",
   "execution_count": null,
   "metadata": {},
   "outputs": [],
   "source": []
  }
 ],
 "metadata": {
  "kernelspec": {
   "display_name": "Python 3",
   "language": "python",
   "name": "python3"
  },
  "language_info": {
   "codemirror_mode": {
    "name": "ipython",
    "version": 3
   },
   "file_extension": ".py",
   "mimetype": "text/x-python",
   "name": "python",
   "nbconvert_exporter": "python",
   "pygments_lexer": "ipython3",
   "version": "3.7.3"
  }
 },
 "nbformat": 4,
 "nbformat_minor": 2
}
