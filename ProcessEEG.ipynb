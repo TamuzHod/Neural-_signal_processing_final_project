{
 "cells": [
  {
   "cell_type": "code",
   "execution_count": 1,
   "metadata": {},
   "outputs": [],
   "source": [
    "import pandas as pd\n",
    "import scipy as sci\n",
    "import numpy as np\n",
    "import matplotlib.pyplot as plt"
   ]
  },
  {
   "cell_type": "code",
   "execution_count": 53,
   "metadata": {},
   "outputs": [],
   "source": [
    "eegF1_df = pd.read_json('file:eegData_F1.json')\n",
    "eegM1_df = pd.read_json('file:eegData_M1.json')\n",
    "eventF1_df = pd.read_json('file:EventJson_F1.json')\n",
    "eventM1_df = pd.read_json('file:EventJson_M1.json')\n",
    "accelF1_df = pd.read_json('file:accelerometerJson_F1.json')\n",
    "accelM1_df = pd.read_json('file:accelerometerJson_M1.json')"
   ]
  },
  {
   "cell_type": "code",
   "execution_count": 50,
   "metadata": {},
   "outputs": [],
   "source": [
    "def process_eeg_dataframe(df):\n",
    "    df_raw_time_vector = eegF1_e0_df['timestamp'].to_numpy()\n",
    "    time_spacing = []\n",
    "    \n",
    "    for i in np.arange(1,len(df_raw_time_vector)):\n",
    "        time_spacing.append(df_raw_time_vector[i]-df_raw_time_vector[i-1])\n",
    "\n",
    "        if(i>1):\n",
    "            if(not time_spacing[i-1] == time_spacing[i-2]):\n",
    "                print(time_spacing[i-1],time_spacing[i-2])\n",
    "                \n",
    "    T = df_raw_time_vector[-1] - df_raw_time_vector[0]\n",
    "    T = T / np.timedelta64(1, 's')\n",
    "    print('length: ',T,' seconds')\n",
    "    dt = time_spacing[0]\n",
    "    dt = dt / np.timedelta64(1, 's')\n",
    "    print('sample spacing: ',dt,' seconds')\n",
    "\n",
    "    time_vector = np.arange(0,T_F1,dt)\n",
    "    \n",
    "    channel_list = []\n",
    "    eeg_channels = []\n",
    "    for channel in np.arange(5):\n",
    "        channel_list.append(df[df['electrode'] == channel])\n",
    "        eeg_temp = channel_list[channel]['samples'].tolist()\n",
    "        eeg = []\n",
    "        for a in eeg_temp:\n",
    "            for b in a:\n",
    "                eeg.append(b)\n",
    "        eeg_channels.append(np.array(eeg))\n",
    "        print('shape of channel ',channel,': ',eeg_channels[channel].shape)\n",
    "    eeg_channels = np.array(eeg_channels).squeeze()\n",
    "    return time_vector,eeg_channels,T"
   ]
  },
  {
   "cell_type": "code",
   "execution_count": 51,
   "metadata": {},
   "outputs": [
    {
     "name": "stdout",
     "output_type": "stream",
     "text": [
      "length:  296.390625  seconds\n",
      "sample spacing:  0.046875  seconds\n",
      "shape of channel  0 :  (75888,)\n",
      "shape of channel  1 :  (75888,)\n",
      "shape of channel  2 :  (75888,)\n",
      "shape of channel  3 :  (75888,)\n",
      "shape of channel  4 :  (75888,)\n",
      "length:  296.390625  seconds\n",
      "sample spacing:  0.046875  seconds\n",
      "shape of channel  0 :  (75888,)\n",
      "shape of channel  1 :  (75888,)\n",
      "shape of channel  2 :  (75888,)\n",
      "shape of channel  3 :  (75888,)\n",
      "shape of channel  4 :  (75888,)\n"
     ]
    }
   ],
   "source": [
    "F1_time_vector,F1_eeg,F1_T = process_eeg_dataframe(eegF1_df)\n",
    "F2_time_vector,F2_eeg,M1_T = process_eeg_dataframe(eegF1_df)"
   ]
  },
  {
   "cell_type": "code",
   "execution_count": null,
   "metadata": {},
   "outputs": [],
   "source": []
  }
 ],
 "metadata": {
  "kernelspec": {
   "display_name": "Python 3",
   "language": "python",
   "name": "python3"
  },
  "language_info": {
   "codemirror_mode": {
    "name": "ipython",
    "version": 3
   },
   "file_extension": ".py",
   "mimetype": "text/x-python",
   "name": "python",
   "nbconvert_exporter": "python",
   "pygments_lexer": "ipython3",
   "version": "3.7.3"
  }
 },
 "nbformat": 4,
 "nbformat_minor": 2
}
