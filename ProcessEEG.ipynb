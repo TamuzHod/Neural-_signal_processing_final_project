{
 "cells": [
  {
   "cell_type": "code",
   "execution_count": 1,
   "metadata": {},
   "outputs": [],
   "source": [
    "import pandas as pd\n",
    "import scipy as sci\n",
    "import numpy as np\n",
    "import matplotlib.pyplot as plt\n",
    "from scipy import io, signal\n",
    "from scipy.signal import butter, lfilter\n",
    "import datetime\n",
    "%matplotlib inline"
   ]
  },
  {
   "cell_type": "code",
   "execution_count": 2,
   "metadata": {},
   "outputs": [],
   "source": [
    "TP_L = 0\n",
    "IF_L = 1\n",
    "IF_R = 2\n",
    "TP_R = 3\n",
    "BASELINE = 4\n"
   ]
  },
  {
   "cell_type": "code",
   "execution_count": null,
   "metadata": {},
   "outputs": [],
   "source": []
  },
  {
   "cell_type": "code",
   "execution_count": 3,
   "metadata": {},
   "outputs": [],
   "source": [
    "eegF1_df = pd.read_json('file:eegData_F1.json')\n",
    "eegF2_df = pd.read_json('file:eegData_F2.json')\n",
    "eegF3_df = pd.read_json('file:eegData_F3.json')\n",
    "eegM1_df = pd.read_json('file:eegData_M1.json')\n",
    "eegM2_df = pd.read_json('file:eegData_M2.json')\n",
    "eegM3_df = pd.read_json('file:eegData_M3.json')\n",
    "eegM4_df = pd.read_json('file:eegData_M4.json')\n",
    "eegM5_df = pd.read_json('file:eegData_M5.json')\n",
    "\n",
    "eventF1_df = pd.read_json('file:Event_F1.json')\n",
    "eventF2_df = pd.read_json('file:Event_F2.json')\n",
    "eventF3_df = pd.read_json('file:Event_F3.json')\n",
    "eventM1_df = pd.read_json('file:Event_M1.json')\n",
    "eventM2_df = pd.read_json('file:Event_M2.json')\n",
    "eventM3_df = pd.read_json('file:Event_M3.json')\n",
    "eventM4_df = pd.read_json('file:Event_M4.json')\n",
    "eventM5_df = pd.read_json('file:Event_M5.json')\n",
    "\n",
    "accelF1_df = pd.read_json('file:accelerometerJson_F1.json')\n",
    "accelM1_df = pd.read_json('file:accelerometerJson_M1.json')\n",
    "fs = 256\n",
    "eventM1_df = eventM1_df[['value', 'timestamp']]\n",
    "participants_eeg = [eegF2_df, eegF3_df,eegM5_df]\n",
    "participants_event = [eventF2_df,eventF3_df,eventM3_df,eventM4_df,eventM5_df]"
   ]
  },
  {
   "cell_type": "code",
   "execution_count": 4,
   "metadata": {},
   "outputs": [
    {
     "name": "stdout",
     "output_type": "stream",
     "text": [
      "    picIndex                  timestamp\n",
      "0          0 2019-07-30 02:07:48.628125\n",
      "1          0 2019-07-30 02:07:53.034375\n",
      "2          4 2019-07-30 02:07:57.487500\n",
      "3          4 2019-07-30 02:08:01.893750\n",
      "4          0 2019-07-30 02:08:06.346875\n",
      "5          0 2019-07-30 02:08:10.753125\n",
      "6          7 2019-07-30 02:08:15.159375\n",
      "7          7 2019-07-30 02:08:19.612500\n",
      "8          1 2019-07-30 02:08:24.018750\n",
      "9          1 2019-07-30 02:08:28.471875\n",
      "10        16 2019-07-30 02:08:32.878125\n",
      "11        16 2019-07-30 02:08:37.284375\n",
      "12         1 2019-07-30 02:08:41.737500\n",
      "13         1 2019-07-30 02:08:46.143750\n",
      "14         4 2019-07-30 02:08:50.596875\n",
      "15         4 2019-07-30 02:08:55.003125\n",
      "16         5 2019-07-30 02:08:59.409375\n",
      "17         5 2019-07-30 02:09:03.862500\n",
      "18         2 2019-07-30 02:09:08.268750\n",
      "19         2 2019-07-30 02:09:12.721875\n",
      "20        16 2019-07-30 02:09:17.128125\n",
      "21        16 2019-07-30 02:09:21.534375\n",
      "22         0 2019-07-30 02:09:25.987500\n",
      "23         0 2019-07-30 02:09:30.393750\n",
      "24        13 2019-07-30 02:09:34.846875\n",
      "25        13 2019-07-30 02:09:39.253125\n",
      "26        15 2019-07-30 02:09:43.659375\n",
      "27        15 2019-07-30 02:09:48.112500\n",
      "28         1 2019-07-30 02:09:52.518750\n",
      "29         1 2019-07-30 02:09:56.971875\n",
      "30        13 2019-07-30 02:10:01.378125\n",
      "31        13 2019-07-30 02:10:05.784375\n",
      "32         8 2019-07-30 02:10:10.237500\n",
      "33         8 2019-07-30 02:10:14.643750\n",
      "34        15 2019-07-30 02:10:19.096875\n",
      "35        15 2019-07-30 02:10:23.503125\n",
      "36         4 2019-07-30 02:10:27.909375\n",
      "37         4 2019-07-30 02:10:32.362500\n",
      "    picIndex                  timestamp\n",
      "0          5 2019-07-30 03:07:18.334500\n",
      "1          5 2019-07-30 03:07:22.740750\n",
      "2         12 2019-07-30 03:07:27.147000\n",
      "3         12 2019-07-30 03:07:31.600125\n",
      "4          7 2019-07-30 03:07:36.006375\n",
      "5          7 2019-07-30 03:07:40.459500\n",
      "6          7 2019-07-30 03:07:44.865750\n",
      "7          7 2019-07-30 03:07:49.272000\n",
      "8          5 2019-07-30 03:07:53.725125\n",
      "9          5 2019-07-30 03:07:58.131375\n",
      "10         7 2019-07-30 03:08:02.584500\n",
      "11         7 2019-07-30 03:08:06.990750\n",
      "12         7 2019-07-30 03:08:11.397000\n",
      "13         7 2019-07-30 03:08:15.850125\n",
      "14         4 2019-07-30 03:08:20.256375\n",
      "15         4 2019-07-30 03:08:24.709500\n",
      "16         4 2019-07-30 03:08:29.115750\n",
      "17         4 2019-07-30 03:08:33.522000\n",
      "18         7 2019-07-30 03:08:37.975125\n",
      "19         7 2019-07-30 03:08:42.381375\n",
      "20        11 2019-07-30 03:08:46.834500\n",
      "21        11 2019-07-30 03:08:51.240750\n",
      "22         5 2019-07-30 03:08:55.647000\n",
      "23         5 2019-07-30 03:09:00.100125\n",
      "24        15 2019-07-30 03:09:04.506375\n",
      "25        15 2019-07-30 03:09:08.959500\n",
      "26         5 2019-07-30 03:09:13.365750\n",
      "27         5 2019-07-30 03:09:17.772000\n",
      "28        11 2019-07-30 03:09:22.225125\n",
      "29        11 2019-07-30 03:09:26.631375\n",
      "30         5 2019-07-30 03:09:31.084500\n",
      "31         5 2019-07-30 03:09:35.490750\n",
      "32         6 2019-07-30 03:09:39.897000\n",
      "33         6 2019-07-30 03:09:44.350125\n",
      "34         4 2019-07-30 03:09:48.756375\n",
      "35         4 2019-07-30 03:09:53.209500\n",
      "36         8 2019-07-30 03:09:57.615750\n",
      "37         8 2019-07-30 03:10:02.022000\n",
      "    picIndex                  timestamp\n",
      "0          9 2019-07-30 01:56:49.545625\n",
      "1          9 2019-07-30 01:56:53.951875\n",
      "2         10 2019-07-30 01:56:58.405000\n",
      "3         10 2019-07-30 01:57:02.811250\n",
      "4         12 2019-07-30 01:57:07.264375\n",
      "5         12 2019-07-30 01:57:11.670625\n",
      "6          3 2019-07-30 01:57:16.076875\n",
      "7          3 2019-07-30 01:57:20.530000\n",
      "8         16 2019-07-30 01:57:24.936250\n",
      "9         16 2019-07-30 01:57:29.389375\n",
      "10         6 2019-07-30 01:57:33.795625\n",
      "11         6 2019-07-30 01:57:38.201875\n",
      "12        14 2019-07-30 01:57:42.655000\n",
      "13        14 2019-07-30 01:57:47.061250\n",
      "14        11 2019-07-30 01:57:51.514375\n",
      "15        11 2019-07-30 01:57:55.920625\n",
      "16         2 2019-07-30 01:58:00.326875\n",
      "17         2 2019-07-30 01:58:04.780000\n",
      "18         0 2019-07-30 01:58:09.186250\n",
      "19         0 2019-07-30 01:58:13.639375\n",
      "20         8 2019-07-30 01:58:18.045625\n",
      "21         8 2019-07-30 01:58:22.451875\n",
      "22        17 2019-07-30 01:58:26.905000\n",
      "23        17 2019-07-30 01:58:31.311250\n",
      "24        12 2019-07-30 01:58:35.764375\n",
      "25        12 2019-07-30 01:58:40.170625\n",
      "26         4 2019-07-30 01:58:44.576875\n",
      "27         4 2019-07-30 01:58:49.030000\n",
      "28        16 2019-07-30 01:58:53.436250\n",
      "29        16 2019-07-30 01:58:57.889375\n",
      "30         2 2019-07-30 01:59:02.295625\n",
      "31         2 2019-07-30 01:59:06.701875\n",
      "32         0 2019-07-30 01:59:11.155000\n",
      "33         0 2019-07-30 01:59:15.561250\n",
      "34         3 2019-07-30 01:59:20.014375\n",
      "35         3 2019-07-30 01:59:24.420625\n",
      "36         1 2019-07-30 01:59:28.826875\n",
      "37         1 2019-07-30 01:59:33.280000\n",
      "    picIndex                  timestamp\n",
      "0          6 2019-07-30 02:49:39.752000\n",
      "1          6 2019-07-30 02:49:44.158250\n",
      "2          4 2019-07-30 02:49:48.611375\n",
      "3          4 2019-07-30 02:49:53.017625\n",
      "4          7 2019-07-30 02:49:57.423875\n",
      "5          7 2019-07-30 02:50:01.877000\n",
      "6         16 2019-07-30 02:50:06.283250\n",
      "7         16 2019-07-30 02:50:10.736375\n",
      "8          9 2019-07-30 02:50:15.142625\n",
      "9          9 2019-07-30 02:50:19.548875\n",
      "10         2 2019-07-30 02:50:24.002000\n",
      "11         2 2019-07-30 02:50:28.408250\n",
      "12         4 2019-07-30 02:50:32.861375\n",
      "13         4 2019-07-30 02:50:37.267625\n",
      "14         0 2019-07-30 02:50:41.673875\n",
      "15         0 2019-07-30 02:50:46.127000\n",
      "16        11 2019-07-30 02:50:50.533250\n",
      "17        11 2019-07-30 02:50:54.986375\n",
      "18        13 2019-07-30 02:50:59.392625\n",
      "19        13 2019-07-30 02:51:03.798875\n",
      "20        16 2019-07-30 02:51:08.252000\n",
      "21        16 2019-07-30 02:51:12.658250\n",
      "22        14 2019-07-30 02:51:17.111375\n",
      "23        14 2019-07-30 02:51:21.517625\n",
      "24        14 2019-07-30 02:51:25.923875\n",
      "25        14 2019-07-30 02:51:30.377000\n",
      "26        14 2019-07-30 02:51:34.783250\n",
      "27        14 2019-07-30 02:51:39.236375\n",
      "28         4 2019-07-30 02:51:43.642625\n",
      "29         4 2019-07-30 02:51:48.048875\n",
      "30         4 2019-07-30 02:51:52.502000\n",
      "31         4 2019-07-30 02:51:56.908250\n",
      "32        16 2019-07-30 02:52:01.361375\n",
      "33        16 2019-07-30 02:52:05.767625\n",
      "34         8 2019-07-30 02:52:10.173875\n",
      "35         8 2019-07-30 02:52:14.627000\n",
      "36         8 2019-07-30 02:52:19.033250\n",
      "37         8 2019-07-30 02:52:23.486375\n",
      "    picIndex                  timestamp\n",
      "0          1 2019-07-30 02:55:12.026125\n",
      "1          1 2019-07-30 02:55:16.432375\n",
      "2          8 2019-07-30 02:55:20.885500\n",
      "3          8 2019-07-30 02:55:25.291750\n",
      "4          3 2019-07-30 02:55:29.698000\n",
      "5          3 2019-07-30 02:55:34.151125\n",
      "6          9 2019-07-30 02:55:38.557375\n",
      "7          9 2019-07-30 02:55:43.010500\n",
      "8          9 2019-07-30 02:55:47.416750\n",
      "9          9 2019-07-30 02:55:51.823000\n",
      "10        12 2019-07-30 02:55:56.276125\n",
      "11        12 2019-07-30 02:56:00.682375\n",
      "12        11 2019-07-30 02:56:05.135500\n",
      "13        11 2019-07-30 02:56:09.541750\n",
      "14         0 2019-07-30 02:56:13.948000\n",
      "15         0 2019-07-30 02:56:18.401125\n",
      "16         8 2019-07-30 02:56:22.807375\n",
      "17         8 2019-07-30 02:56:27.260500\n",
      "18        10 2019-07-30 02:56:31.666750\n",
      "19        10 2019-07-30 02:56:36.073000\n",
      "20         8 2019-07-30 02:56:40.526125\n",
      "21         8 2019-07-30 02:56:44.932375\n",
      "22        17 2019-07-30 02:56:49.385500\n",
      "23        17 2019-07-30 02:56:53.791750\n",
      "24        13 2019-07-30 02:56:58.198000\n",
      "25        13 2019-07-30 02:57:02.651125\n",
      "26        15 2019-07-30 02:57:07.057375\n",
      "27        15 2019-07-30 02:57:11.510500\n",
      "28         2 2019-07-30 02:57:15.916750\n",
      "29         2 2019-07-30 02:57:20.323000\n",
      "30        10 2019-07-30 02:57:24.776125\n",
      "31        10 2019-07-30 02:57:29.182375\n",
      "32        12 2019-07-30 02:57:33.635500\n",
      "33        12 2019-07-30 02:57:38.041750\n",
      "34         9 2019-07-30 02:57:42.448000\n",
      "35         9 2019-07-30 02:57:46.901125\n",
      "36         7 2019-07-30 02:57:51.307375\n",
      "37         7 2019-07-30 02:57:55.760500\n"
     ]
    }
   ],
   "source": [
    "for i in participants_event:\n",
    "    print(i)"
   ]
  },
  {
   "cell_type": "code",
   "execution_count": 5,
   "metadata": {},
   "outputs": [],
   "source": [
    "def butter_bandpass(lowcut, highcut, fs, order=5):\n",
    "    nyq = 0.5 * fs\n",
    "    low = lowcut / nyq\n",
    "    high = highcut / nyq\n",
    "    b, a = butter(order, [low, high], btype='band')\n",
    "    return b, a\n",
    "\n",
    "\n",
    "def butter_bandpass_filter(data, lowcut, highcut, fs, order=5):\n",
    "    b, a = butter_bandpass(lowcut, highcut, fs, order=order)\n",
    "    y = lfilter(b, a, data)\n",
    "    return y\n",
    "\n",
    "\n",
    "def clean_data(data, fs):\n",
    "#    print(data.shape)\n",
    "#    print(np.isnan(data).any())\n",
    "    mean = np.mean(data)\n",
    "#    print(data.shape,'Mean: ' + str(mean))\n",
    "#    print(type(mean))\n",
    "#    print(mean)\n",
    "    data = data - mean\n",
    "#    print(data.shape)\n",
    "#    print(np.isnan(data).any())\n",
    "#    print(data)\n",
    "    data = butter_bandpass_filter(data, .5, 15, fs)\n",
    "#    print(data)\n",
    "#    print(data.shape)\n",
    "#    print(np.isnan(data).any())\n",
    "    return data\n",
    "\n",
    "def discard_first_trial(eventlist):\n",
    "    eventlist = np.delete(eventlist,0,1)\n",
    "    return eventlist\n"
   ]
  },
  {
   "cell_type": "code",
   "execution_count": 6,
   "metadata": {},
   "outputs": [],
   "source": [
    "def datetime_to_float(d):\n",
    "    epoch = datetime.datetime.utcfromtimestamp(0)\n",
    "    total_seconds =  (d - epoch).total_seconds()\n",
    "    # total_seconds will be in decimals (millisecond precision)\n",
    "    return total_seconds\n",
    "\n",
    "def compute_EEG_indices(event_timestamps, fs):\n",
    "    indices = np.array([int(i * fs) for i in event_timestamps]).astype(int)\n",
    "    return indices\n",
    "\n",
    "def find_nearest(array,value):\n",
    "    idx,val = min(enumerate(array), key=lambda x: abs(x[1]-value))\n",
    "    return idx"
   ]
  },
  {
   "cell_type": "code",
   "execution_count": 7,
   "metadata": {},
   "outputs": [],
   "source": [
    "def process_eeg_dataframe(df):\n",
    "    df_raw_time_vector = df[df['electrode'] == 0]['timestamp'].to_numpy()\n",
    "    time_spacing = []\n",
    "    \n",
    "    for i in np.arange(1,len(df_raw_time_vector)):\n",
    "        time_spacing.append(df_raw_time_vector[i]-df_raw_time_vector[i-1])\n",
    "\n",
    "        if(i>1):\n",
    "            if(not time_spacing[i-1] == time_spacing[i-2]):\n",
    "                print(time_spacing[i-1],time_spacing[i-2])\n",
    "\n",
    "    dt_stamp = time_spacing[0]\n",
    "    dt = dt_stamp / np.timedelta64(1, 's')\n",
    "    \n",
    "    T = df_raw_time_vector[-1] - df_raw_time_vector[0] + dt_stamp\n",
    "    T = T / np.timedelta64(1, 's')\n",
    "\n",
    "    time_vector = np.arange(0,T,dt/12)\n",
    "    \n",
    "    channel_list = []\n",
    "    eeg_channels = []\n",
    "    for channel in np.arange(5):\n",
    "        channel_list.append(df[df['electrode'] == channel])\n",
    "        eeg_temp = channel_list[channel]['samples'].tolist()\n",
    "        eeg = []\n",
    "        for a in eeg_temp:\n",
    "            for b in a:\n",
    "                eeg.append(b)\n",
    "        eeg_channels.append(clean_data(np.array(eeg),fs))\n",
    "#        print('shape of channel ',channel,': ',eeg_channels[channel].shape)\n",
    "    eeg_channels = np.array(eeg_channels).squeeze()\n",
    "    return time_vector,eeg_channels,T"
   ]
  },
  {
   "cell_type": "code",
   "execution_count": 8,
   "metadata": {},
   "outputs": [],
   "source": [
    "def process_event_dataframe(df,start_time):\n",
    "    data = df.to_numpy()\n",
    "    for i in np.arange(len(data)):\n",
    "        data[i,1] = (datetime_to_float(df[\"timestamp\"][i]) - start_time)\n",
    "    return data.T\n",
    "\n",
    "def first_timestamp(df):\n",
    "    timestamp = df['timestamp'][0]\n",
    "    return timestamp"
   ]
  },
  {
   "cell_type": "code",
   "execution_count": 9,
   "metadata": {},
   "outputs": [],
   "source": [
    "def grab_epoch(data, index, fs, len_pre, len_post):\n",
    "    epoch = np.array([i for i in data[(index+int(len_pre*fs) if index+int(len_pre*fs) >= 0 else 0):index+(len_post*fs)]])\n",
    "    return epoch\n",
    "\n",
    "def get_windows(data, indices, fs, len_pre, len_post):\n",
    "    epoch_list = []\n",
    "    for index in indices:\n",
    "        epoch = []\n",
    "        if index+int(len_pre*fs) < 0 or index+int(len_post*fs) >= len(data): \n",
    "            continue\n",
    "        start = index+int(len_pre*fs) \n",
    "        end = index+int(len_post*fs)\n",
    "        baseline = np.mean(data[start:index])\n",
    "        for value in data[start:end]:\n",
    "            epoch.append(value - baseline)\n",
    "        epoch_list.append(epoch)\n",
    "    return np.array(epoch_list)"
   ]
  },
  {
   "cell_type": "code",
   "execution_count": 10,
   "metadata": {},
   "outputs": [],
   "source": [
    "time_vector_list = []\n",
    "eeg_list = []\n",
    "length_list = []\n",
    "event_list = []\n",
    "\n",
    "for i in np.arange(len(participants_eeg)):\n",
    "#    print(i)\n",
    "    time_vector,eeg,T = process_eeg_dataframe(participants_eeg[i])\n",
    "    time_vector_list.append(time_vector)\n",
    "    eeg_list.append(eeg)\n",
    "    length_list.append(T)\n",
    "    event = process_event_dataframe(participants_event[i],datetime_to_float(first_timestamp(participants_eeg[i])))\n",
    "    event[1] = compute_EEG_indices(event[1], fs)\n",
    "    event = discard_first_trial(event)\n",
    "    event_list.append(event)\n",
    "    \n",
    "    \n",
    "\n",
    "#M2_time_vector,M2_eeg,M2_T = process_eeg_dataframe(eegM2_df)\n",
    "#M3_time_vector,M3_eeg,M3_T = process_eeg_dataframe(eegM3_df)\n"
   ]
  },
  {
   "cell_type": "code",
   "execution_count": 11,
   "metadata": {},
   "outputs": [
    {
     "name": "stdout",
     "output_type": "stream",
     "text": [
      "[168.796875, 168.796875, 168.796875]\n"
     ]
    }
   ],
   "source": [
    "#print(M2_time_vector.shape,M2_eeg.shape)\n",
    "print(length_list)\n",
    "#participants_eeg = [eegF2_df, eegF3_df, eegM1_df, eegM2_df, eegM3_df, eegM4_df, eegM5_df]"
   ]
  },
  {
   "cell_type": "code",
   "execution_count": 12,
   "metadata": {},
   "outputs": [],
   "source": [
    "#eventM2_df[\"timestamp\"][0]"
   ]
  },
  {
   "cell_type": "code",
   "execution_count": 13,
   "metadata": {},
   "outputs": [
    {
     "name": "stdout",
     "output_type": "stream",
     "text": [
      "M1 offset: 11.270625114440918\n",
      "M2 offset: 11.25\n",
      "M3 offset: -3165.8001251220703\n",
      "M4 offset: 3174.6126248836517\n",
      "M5 offset: 4.40625\n",
      "F1 offset: 611.2706251144409\n",
      "F2 offset: 4.40625\n",
      "F3 offset: 4.453125\n",
      "4.4062498807907104\n"
     ]
    }
   ],
   "source": [
    "M1_offset = datetime_to_float(eventM1_df[\"timestamp\"][0]) - datetime_to_float(first_timestamp(eegM1_df))\n",
    "M2_offset = datetime_to_float(eventM2_df[\"timestamp\"][0]) - datetime_to_float(first_timestamp(eegM2_df))\n",
    "M3_offset = datetime_to_float(eventM3_df[\"timestamp\"][0]) - datetime_to_float(first_timestamp(eegM3_df))\n",
    "M4_offset = datetime_to_float(eventM4_df[\"timestamp\"][0]) - datetime_to_float(first_timestamp(eegM4_df))\n",
    "M5_offset = datetime_to_float(eventM5_df[\"timestamp\"][0]) - datetime_to_float(first_timestamp(eegM5_df))\n",
    "F1_offset = datetime_to_float(eventF1_df[\"timestamp\"][0]) - datetime_to_float(first_timestamp(eegF1_df))\n",
    "F2_offset = datetime_to_float(eventF2_df[\"timestamp\"][0]) - datetime_to_float(first_timestamp(eegF2_df))\n",
    "F3_offset = datetime_to_float(eventF3_df[\"timestamp\"][0]) - datetime_to_float(first_timestamp(eegF3_df))\n",
    "\n",
    "print('M1 offset: ' + str(M1_offset))\n",
    "print('M2 offset: ' + str(M2_offset))\n",
    "print('M3 offset: ' + str(M3_offset))\n",
    "print('M4 offset: ' + str(M4_offset))\n",
    "print('M5 offset: ' + str(M5_offset))\n",
    "print('F1 offset: ' + str(F1_offset))\n",
    "print('F2 offset: ' + str(F2_offset))\n",
    "print('F3 offset: ' + str(F3_offset))\n",
    "\n",
    "print((M3_offset + M4_offset)/2)\n",
    "\n",
    "# note: fix indices for M3 and M4"
   ]
  },
  {
   "cell_type": "code",
   "execution_count": 14,
   "metadata": {},
   "outputs": [
    {
     "data": {
      "text/plain": [
       "11.270625114440918"
      ]
     },
     "execution_count": 14,
     "metadata": {},
     "output_type": "execute_result"
    }
   ],
   "source": [
    "datetime_to_float(eventM1_df[\"timestamp\"][0]) - datetime_to_float(first_timestamp(eegM1_df))"
   ]
  },
  {
   "cell_type": "code",
   "execution_count": 15,
   "metadata": {},
   "outputs": [
    {
     "data": {
      "text/plain": [
       "11.270625114440918"
      ]
     },
     "execution_count": 15,
     "metadata": {},
     "output_type": "execute_result"
    }
   ],
   "source": [
    "datetime_to_float(eventM1_df[\"timestamp\"][0]) - datetime_to_float(first_timestamp(eegM1_df))"
   ]
  },
  {
   "cell_type": "code",
   "execution_count": 16,
   "metadata": {},
   "outputs": [
    {
     "data": {
      "text/plain": [
       "11.270625114440918"
      ]
     },
     "execution_count": 16,
     "metadata": {},
     "output_type": "execute_result"
    }
   ],
   "source": [
    "datetime_to_float(eventM1_df[\"timestamp\"][0]) - datetime_to_float(first_timestamp(eegM1_df))"
   ]
  },
  {
   "cell_type": "code",
   "execution_count": 17,
   "metadata": {},
   "outputs": [
    {
     "data": {
      "text/plain": [
       "-3170.2063751220703"
      ]
     },
     "execution_count": 17,
     "metadata": {},
     "output_type": "execute_result"
    }
   ],
   "source": [
    "-3165.8001251220703 - 4.40625"
   ]
  },
  {
   "cell_type": "code",
   "execution_count": 18,
   "metadata": {},
   "outputs": [],
   "source": [
    "#eventM2 = process_event_dataframe(eventM2_df,datetime_to_float(first_timestamp(eegM2_df)))\n",
    "#print(eventM2)\n",
    "#eventM2[1] = compute_EEG_indices(eventM2[1], fs)\n",
    "#print(eventM2)\n",
    "#eventM2 = discard_first_trial(eventM2)\n",
    "#print(eventM2)"
   ]
  },
  {
   "cell_type": "code",
   "execution_count": 19,
   "metadata": {
    "scrolled": true
   },
   "outputs": [],
   "source": [
    "#M2_eeg[0]"
   ]
  },
  {
   "cell_type": "code",
   "execution_count": 20,
   "metadata": {},
   "outputs": [],
   "source": [
    "#M2_T\n"
   ]
  },
  {
   "cell_type": "code",
   "execution_count": 21,
   "metadata": {},
   "outputs": [],
   "source": [
    "#M2_time_vector"
   ]
  },
  {
   "cell_type": "code",
   "execution_count": 22,
   "metadata": {},
   "outputs": [],
   "source": [
    "#first_stimulus = (first_timestamp(eventM1_df) - first_timestamp(eegM1_df))/np.timedelta64(1, 's')"
   ]
  },
  {
   "cell_type": "code",
   "execution_count": 23,
   "metadata": {},
   "outputs": [],
   "source": [
    "#first_stimulus"
   ]
  },
  {
   "cell_type": "code",
   "execution_count": null,
   "metadata": {},
   "outputs": [],
   "source": []
  },
  {
   "cell_type": "code",
   "execution_count": 24,
   "metadata": {},
   "outputs": [],
   "source": [
    "#first_stimulus_index = find_nearest(M2_time_vector, first_stimulus)"
   ]
  },
  {
   "cell_type": "code",
   "execution_count": 25,
   "metadata": {},
   "outputs": [],
   "source": [
    "#first_stimulus - M2_time_vector[2885]"
   ]
  },
  {
   "cell_type": "code",
   "execution_count": null,
   "metadata": {},
   "outputs": [],
   "source": []
  },
  {
   "cell_type": "code",
   "execution_count": 26,
   "metadata": {
    "scrolled": false
   },
   "outputs": [],
   "source": [
    "#FIR_theta = signal.firwin(751, cutoff=(4,10), fs=fs, pass_zero=False)\n",
    "#theta_osc = np.empty(M2_eeg.shape)\n",
    "#theta_osc[0] = np.convolve(M2_eeg[0], FIR_theta, mode='same')\n",
    "#theta_osc[1] = np.convolve(M2_eeg[1], FIR_theta, mode='same')\n",
    "#theta_osc[2] = np.convolve(M2_eeg[2], FIR_theta, mode='same')\n",
    "#theta_osc[3] = np.convolve(M2_eeg[3], FIR_theta, mode='same')\n",
    "#theta_osc[4] = np.convolve(M2_eeg[4], FIR_theta, mode='same')\n",
    "\n",
    "#t_vector = np.arange(0,len(M2_eeg[0])/fs,1/fs)\n",
    "\n",
    "#plt.figure(figsize=(15,12))\n",
    "# plot the signal and the filtered signal\n",
    "#plt.plot(t_vector, M2_eeg[0], '-', label = \"origional\")\n",
    "#plt.plot(t_vector, theta_osc[0], '-', label = \"theta\")\n",
    "#plt.xlim([M2_time_vector[2885]-1,M2_time_vector[2885]+2])\n",
    "#plt.xlabel('Time (s)'); plt.ylabel('Voltage (V)');\n",
    "#plt.legend()\n"
   ]
  },
  {
   "cell_type": "code",
   "execution_count": 27,
   "metadata": {},
   "outputs": [],
   "source": [
    "len_pre = -1\n",
    "len_post = 2"
   ]
  },
  {
   "cell_type": "code",
   "execution_count": 39,
   "metadata": {},
   "outputs": [
    {
     "ename": "ValueError",
     "evalue": "all the input arrays must have same number of dimensions, but the array at index 0 has 1 dimension(s) and the array at index 1 has 2 dimension(s)",
     "output_type": "error",
     "traceback": [
      "\u001b[1;31m---------------------------------------------------------------------------\u001b[0m",
      "\u001b[1;31mValueError\u001b[0m                                Traceback (most recent call last)",
      "\u001b[1;32m<ipython-input-39-f6c23278dcff>\u001b[0m in \u001b[0;36m<module>\u001b[1;34m\u001b[0m\n\u001b[0;32m     24\u001b[0m         \u001b[0mcat_windows\u001b[0m \u001b[1;33m=\u001b[0m \u001b[0mnp\u001b[0m\u001b[1;33m.\u001b[0m\u001b[0marray\u001b[0m\u001b[1;33m(\u001b[0m\u001b[0mget_windows\u001b[0m\u001b[1;33m(\u001b[0m\u001b[0meeg_list\u001b[0m\u001b[1;33m[\u001b[0m\u001b[0mparticipant\u001b[0m\u001b[1;33m]\u001b[0m\u001b[1;33m[\u001b[0m\u001b[0mchannel\u001b[0m\u001b[1;33m]\u001b[0m\u001b[1;33m,\u001b[0m \u001b[0mcat_index\u001b[0m\u001b[1;33m[\u001b[0m\u001b[0mparticipant\u001b[0m\u001b[1;33m]\u001b[0m\u001b[1;33m,\u001b[0m \u001b[0mfs\u001b[0m\u001b[1;33m,\u001b[0m \u001b[0mlen_pre\u001b[0m\u001b[1;33m,\u001b[0m \u001b[0mlen_post\u001b[0m\u001b[1;33m)\u001b[0m\u001b[1;33m)\u001b[0m\u001b[1;33m\u001b[0m\u001b[1;33m\u001b[0m\u001b[0m\n\u001b[0;32m     25\u001b[0m         \u001b[0msnake_windows\u001b[0m \u001b[1;33m=\u001b[0m \u001b[0mnp\u001b[0m\u001b[1;33m.\u001b[0m\u001b[0marray\u001b[0m\u001b[1;33m(\u001b[0m\u001b[0mget_windows\u001b[0m\u001b[1;33m(\u001b[0m\u001b[0meeg_list\u001b[0m\u001b[1;33m[\u001b[0m\u001b[0mparticipant\u001b[0m\u001b[1;33m]\u001b[0m\u001b[1;33m[\u001b[0m\u001b[0mchannel\u001b[0m\u001b[1;33m]\u001b[0m\u001b[1;33m,\u001b[0m \u001b[0msnake_index\u001b[0m\u001b[1;33m[\u001b[0m\u001b[0mparticipant\u001b[0m\u001b[1;33m]\u001b[0m\u001b[1;33m,\u001b[0m \u001b[0mfs\u001b[0m\u001b[1;33m,\u001b[0m \u001b[0mlen_pre\u001b[0m\u001b[1;33m,\u001b[0m \u001b[0mlen_post\u001b[0m\u001b[1;33m)\u001b[0m\u001b[1;33m)\u001b[0m\u001b[1;33m\u001b[0m\u001b[1;33m\u001b[0m\u001b[0m\n\u001b[1;32m---> 26\u001b[1;33m         \u001b[0mnp\u001b[0m\u001b[1;33m.\u001b[0m\u001b[0mconcatenate\u001b[0m\u001b[1;33m(\u001b[0m\u001b[1;33m[\u001b[0m\u001b[0mnp\u001b[0m\u001b[1;33m.\u001b[0m\u001b[0marray\u001b[0m\u001b[1;33m(\u001b[0m\u001b[0mepochs_cat\u001b[0m\u001b[1;33m[\u001b[0m\u001b[0mchannel\u001b[0m\u001b[1;33m]\u001b[0m\u001b[1;33m)\u001b[0m\u001b[1;33m,\u001b[0m\u001b[0mcat_windows\u001b[0m\u001b[1;33m]\u001b[0m\u001b[1;33m,\u001b[0m\u001b[0maxis\u001b[0m\u001b[1;33m=\u001b[0m\u001b[1;36m0\u001b[0m\u001b[1;33m)\u001b[0m\u001b[1;33m\u001b[0m\u001b[1;33m\u001b[0m\u001b[0m\n\u001b[0m\u001b[0;32m     27\u001b[0m         \u001b[0mnp\u001b[0m\u001b[1;33m.\u001b[0m\u001b[0mconcatenate\u001b[0m\u001b[1;33m(\u001b[0m\u001b[1;33m[\u001b[0m\u001b[0mnp\u001b[0m\u001b[1;33m.\u001b[0m\u001b[0marray\u001b[0m\u001b[1;33m(\u001b[0m\u001b[0mepochs_snake\u001b[0m\u001b[1;33m[\u001b[0m\u001b[0mchannel\u001b[0m\u001b[1;33m]\u001b[0m\u001b[1;33m)\u001b[0m\u001b[1;33m,\u001b[0m\u001b[0msnake_windows\u001b[0m\u001b[1;33m]\u001b[0m\u001b[1;33m,\u001b[0m\u001b[0maxis\u001b[0m\u001b[1;33m=\u001b[0m\u001b[1;36m0\u001b[0m\u001b[1;33m)\u001b[0m\u001b[1;33m\u001b[0m\u001b[1;33m\u001b[0m\u001b[0m\n\u001b[0;32m     28\u001b[0m \u001b[1;33m\u001b[0m\u001b[0m\n",
      "\u001b[1;32m<__array_function__ internals>\u001b[0m in \u001b[0;36mconcatenate\u001b[1;34m(*args, **kwargs)\u001b[0m\n",
      "\u001b[1;31mValueError\u001b[0m: all the input arrays must have same number of dimensions, but the array at index 0 has 1 dimension(s) and the array at index 1 has 2 dimension(s)"
     ]
    }
   ],
   "source": [
    "cat_index = []\n",
    "snake_index = []\n",
    "\n",
    "for i in np.arange(len(eeg_list)):\n",
    "    cat_index.append([])\n",
    "    snake_index.append([])            \n",
    "\n",
    "epochs_cat = [np.zeros(int((len_post-len_pre)*fs)),np.zeros(int((len_post-len_pre)*fs)),np.zeros(int((len_post-len_pre)*fs)),np.zeros(int((len_post-len_pre)*fs)),np.zeros(int((len_post-len_pre)*fs))]\n",
    "epochs_snake = [np.zeros(int((len_post-len_pre)*fs)),np.zeros(int((len_post-len_pre)*fs)),np.zeros(int((len_post-len_pre)*fs)),np.zeros(int((len_post-len_pre)*fs)),np.zeros(int((len_post-len_pre)*fs))]\n",
    "\n",
    "\n",
    "for participant in np.arange(len(eeg_list)):\n",
    "    for i in np.arange(len(event_list[participant][0])):\n",
    "#        print(participant,i)\n",
    "        if(event_list[participant][0][i] < 12):\n",
    "            cat_index[participant].append(event_list[participant][1][i])\n",
    "        else:\n",
    "            snake_index[participant].append(event_list[participant][1][i])\n",
    "\n",
    "\n",
    "\n",
    "for participant in np.arange(len(eeg_list)):\n",
    "    for channel in np.arange(5):\n",
    "        cat_windows = np.array(get_windows(eeg_list[participant][channel], cat_index[participant], fs, len_pre, len_post))\n",
    "        snake_windows = np.array(get_windows(eeg_list[participant][channel], snake_index[participant], fs, len_pre, len_post))\n",
    "        np.concatenate([np.array(epochs_cat[channel]),cat_windows],axis=0)\n",
    "        np.concatenate([np.array(epochs_snake[channel]),snake_windows],axis=0)\n",
    "        "
   ]
  },
  {
   "cell_type": "code",
   "execution_count": 29,
   "metadata": {},
   "outputs": [],
   "source": [
    "#participant = 5\n",
    "#channel = 1\n",
    "#get_windows(eeg_list[participant][channel], cat_index[participant], fs, len_pre, len_post)"
   ]
  },
  {
   "cell_type": "code",
   "execution_count": 30,
   "metadata": {},
   "outputs": [],
   "source": [
    "#cat_index[participant]\n",
    "\n",
    "\n",
    "    "
   ]
  },
  {
   "cell_type": "code",
   "execution_count": 31,
   "metadata": {},
   "outputs": [
    {
     "name": "stdout",
     "output_type": "stream",
     "text": [
      "(5, 3)\n"
     ]
    }
   ],
   "source": [
    "#cat_index\n",
    "#snake_index\n",
    "#epochs_cat\n",
    "#epochs_snake\n",
    "print(np.array(epochs_cat).shape)"
   ]
  },
  {
   "cell_type": "code",
   "execution_count": 32,
   "metadata": {
    "scrolled": true
   },
   "outputs": [
    {
     "ename": "ValueError",
     "evalue": "operands could not be broadcast together with shapes (24,768) (32,768) ",
     "output_type": "error",
     "traceback": [
      "\u001b[1;31m---------------------------------------------------------------------------\u001b[0m",
      "\u001b[1;31mValueError\u001b[0m                                Traceback (most recent call last)",
      "\u001b[1;32m<ipython-input-32-de89711dfbab>\u001b[0m in \u001b[0;36m<module>\u001b[1;34m\u001b[0m\n\u001b[1;32m----> 1\u001b[1;33m \u001b[0mnp\u001b[0m\u001b[1;33m.\u001b[0m\u001b[0mmean\u001b[0m\u001b[1;33m(\u001b[0m\u001b[0mepochs_cat\u001b[0m\u001b[1;33m[\u001b[0m\u001b[1;36m1\u001b[0m\u001b[1;33m]\u001b[0m\u001b[1;33m,\u001b[0m \u001b[0maxis\u001b[0m\u001b[1;33m=\u001b[0m\u001b[1;36m0\u001b[0m\u001b[1;33m)\u001b[0m\u001b[1;33m\u001b[0m\u001b[1;33m\u001b[0m\u001b[0m\n\u001b[0m\u001b[0;32m      2\u001b[0m \u001b[0mprint\u001b[0m\u001b[1;33m(\u001b[0m\u001b[1;36m2\u001b[0m\u001b[1;33m)\u001b[0m\u001b[1;33m\u001b[0m\u001b[1;33m\u001b[0m\u001b[0m\n\u001b[0;32m      3\u001b[0m \u001b[0mcat_average\u001b[0m \u001b[1;33m=\u001b[0m \u001b[1;33m[\u001b[0m\u001b[1;33m]\u001b[0m\u001b[1;33m\u001b[0m\u001b[1;33m\u001b[0m\u001b[0m\n\u001b[0;32m      4\u001b[0m \u001b[0msnake_average\u001b[0m \u001b[1;33m=\u001b[0m \u001b[1;33m[\u001b[0m\u001b[1;33m]\u001b[0m\u001b[1;33m\u001b[0m\u001b[1;33m\u001b[0m\u001b[0m\n\u001b[0;32m      5\u001b[0m \u001b[1;32mfor\u001b[0m \u001b[0mchannel\u001b[0m \u001b[1;32min\u001b[0m \u001b[0mnp\u001b[0m\u001b[1;33m.\u001b[0m\u001b[0marange\u001b[0m\u001b[1;33m(\u001b[0m\u001b[1;36m5\u001b[0m\u001b[1;33m)\u001b[0m\u001b[1;33m:\u001b[0m\u001b[1;33m\u001b[0m\u001b[1;33m\u001b[0m\u001b[0m\n",
      "\u001b[1;32m<__array_function__ internals>\u001b[0m in \u001b[0;36mmean\u001b[1;34m(*args, **kwargs)\u001b[0m\n",
      "\u001b[1;32m~\\AppData\\Roaming\\Python\\Python37\\site-packages\\numpy\\core\\fromnumeric.py\u001b[0m in \u001b[0;36mmean\u001b[1;34m(a, axis, dtype, out, keepdims)\u001b[0m\n\u001b[0;32m   3255\u001b[0m \u001b[1;33m\u001b[0m\u001b[0m\n\u001b[0;32m   3256\u001b[0m     return _methods._mean(a, axis=axis, dtype=dtype,\n\u001b[1;32m-> 3257\u001b[1;33m                           out=out, **kwargs)\n\u001b[0m\u001b[0;32m   3258\u001b[0m \u001b[1;33m\u001b[0m\u001b[0m\n\u001b[0;32m   3259\u001b[0m \u001b[1;33m\u001b[0m\u001b[0m\n",
      "\u001b[1;32m~\\AppData\\Roaming\\Python\\Python37\\site-packages\\numpy\\core\\_methods.py\u001b[0m in \u001b[0;36m_mean\u001b[1;34m(a, axis, dtype, out, keepdims)\u001b[0m\n\u001b[0;32m    149\u001b[0m             \u001b[0mis_float16_result\u001b[0m \u001b[1;33m=\u001b[0m \u001b[1;32mTrue\u001b[0m\u001b[1;33m\u001b[0m\u001b[1;33m\u001b[0m\u001b[0m\n\u001b[0;32m    150\u001b[0m \u001b[1;33m\u001b[0m\u001b[0m\n\u001b[1;32m--> 151\u001b[1;33m     \u001b[0mret\u001b[0m \u001b[1;33m=\u001b[0m \u001b[0mumr_sum\u001b[0m\u001b[1;33m(\u001b[0m\u001b[0marr\u001b[0m\u001b[1;33m,\u001b[0m \u001b[0maxis\u001b[0m\u001b[1;33m,\u001b[0m \u001b[0mdtype\u001b[0m\u001b[1;33m,\u001b[0m \u001b[0mout\u001b[0m\u001b[1;33m,\u001b[0m \u001b[0mkeepdims\u001b[0m\u001b[1;33m)\u001b[0m\u001b[1;33m\u001b[0m\u001b[1;33m\u001b[0m\u001b[0m\n\u001b[0m\u001b[0;32m    152\u001b[0m     \u001b[1;32mif\u001b[0m \u001b[0misinstance\u001b[0m\u001b[1;33m(\u001b[0m\u001b[0mret\u001b[0m\u001b[1;33m,\u001b[0m \u001b[0mmu\u001b[0m\u001b[1;33m.\u001b[0m\u001b[0mndarray\u001b[0m\u001b[1;33m)\u001b[0m\u001b[1;33m:\u001b[0m\u001b[1;33m\u001b[0m\u001b[1;33m\u001b[0m\u001b[0m\n\u001b[0;32m    153\u001b[0m         ret = um.true_divide(\n",
      "\u001b[1;31mValueError\u001b[0m: operands could not be broadcast together with shapes (24,768) (32,768) "
     ]
    }
   ],
   "source": [
    "\n",
    "cat_average = []\n",
    "snake_average = []\n",
    "for channel in np.arange(5):\n",
    "#    print(np.array(epochs_cat[channel]).shape)\n",
    "    cat_average.append(np.mean(epochs_cat[channel], axis=0))\n",
    "    snake_average.append(np.mean(epochs_snake[channel], axis=0))\n",
    "\n",
    "#cat_average= np.array(cat_average)\n",
    "#snake_average= np.array(snake_average)\n",
    "\n",
    "epoch_time = np.arange(len_pre, len_post, 1/fs)"
   ]
  },
  {
   "cell_type": "code",
   "execution_count": null,
   "metadata": {},
   "outputs": [],
   "source": [
    "\n",
    "# plot STA\n",
    "plt.figure(figsize=(12,5))\n",
    "plt.plot(epoch_time, cat_average[0], '-', label = \"channal 0\")\n",
    "plt.plot(epoch_time, cat_average[3], '-', label = \"channal 3\")\n",
    "plt.xlabel('time (s)'); plt.ylabel('Voltage (v)');\n",
    "\n",
    "plt.figure(figsize=(12,5))\n",
    "plt.plot(epoch_time, snake_average[0], '-', label = \"channal 0\")\n",
    "plt.plot(epoch_time, snake_average[3], '-', label = \"channal 3\")\n",
    "plt.xlabel('time (s)'); plt.ylabel('Voltage (v)');\n",
    "\n",
    "plt.figure(figsize=(12,5))\n",
    "plt.plot(epoch_time, cat_average[1], '-', label = \"channal 1\")\n",
    "plt.plot(epoch_time, cat_average[2], '-', label = \"channal 2\")\n",
    "plt.xlabel('time (s)'); plt.ylabel('Voltage (v)');\n",
    "\n",
    "plt.figure(figsize=(12,5))\n",
    "plt.plot(epoch_time, snake_average[1], '-', label = \"channal 1\")\n",
    "plt.plot(epoch_time, snake_average[2], '-', label = \"channal 2\")\n",
    "plt.xlabel('time (s)'); plt.ylabel('Voltage (v)');\n",
    "\n",
    "#plt.plot(epoch_time, trial_average[4], '-', label = \"channal 4\")"
   ]
  },
  {
   "cell_type": "code",
   "execution_count": null,
   "metadata": {
    "scrolled": true
   },
   "outputs": [],
   "source": [
    "# plot all the epochs and average\n",
    "plt.figure(figsize=(12,5))\n",
    "plt.plot(epoch_time, epochs[0].T, '-k', alpha=0.01)\n",
    "plt.plot(epoch_time, trial_average[0], label='Average Response')\n",
    "plt.xlabel('Time (s)')\n",
    "plt.ylabel('Voltage (uV)')\n",
    "plt.ylim([-20,20])\n",
    "plt.legend()"
   ]
  },
  {
   "cell_type": "code",
   "execution_count": null,
   "metadata": {},
   "outputs": [],
   "source": [
    "eventM2"
   ]
  },
  {
   "cell_type": "code",
   "execution_count": null,
   "metadata": {},
   "outputs": [],
   "source": [
    "catIndex = []\n",
    "snakeIndex = []\n",
    "for i in range(0, len(eventM2[0])):\n",
    "    if(eventM2[0][i] < 12):\n",
    "        catIndex.append(eventM2[1][i])\n",
    "    else:\n",
    "        snakeIndex.append(eventM2[1][i])\n",
    "        \n",
    "print(catIndex)\n",
    "print(snakeIndex)"
   ]
  },
  {
   "cell_type": "code",
   "execution_count": null,
   "metadata": {},
   "outputs": [],
   "source": [
    "epochs_cats = []\n",
    "epochs_cats.append(get_windows(M2_eeg[0], catIndex, fs, len_pre, len_post))\n",
    "epochs_cats.append(get_windows(M2_eeg[1], catIndex, fs, len_pre, len_post))\n",
    "epochs_cats.append(get_windows(M2_eeg[2], catIndex, fs, len_pre, len_post))\n",
    "epochs_cats.append(get_windows(M2_eeg[3], catIndex, fs, len_pre, len_post))\n",
    "epochs_cats.append(get_windows(M2_eeg[4], catIndex, fs, len_pre, len_post))\n",
    "epochs_cats = np.array(epochs_cats)\n",
    "\n",
    "print(epochs_cats.shape)\n",
    "\n",
    "epochs_snakes = []\n",
    "epochs_snakes.append(get_windows(M2_eeg[0], snakeIndex, fs, len_pre, len_post))\n",
    "epochs_snakes.append(get_windows(M2_eeg[1], snakeIndex, fs, len_pre, len_post))\n",
    "epochs_snakes.append(get_windows(M2_eeg[2], snakeIndex, fs, len_pre, len_post))\n",
    "epochs_snakes.append(get_windows(M2_eeg[3], snakeIndex, fs, len_pre, len_post))\n",
    "epochs_snakes.append(get_windows(M2_eeg[4], snakeIndex, fs, len_pre, len_post))\n",
    "epochs_snakes = np.array(epochs_snakes)\n",
    "\n",
    "print(epochs_snakes.shape)"
   ]
  },
  {
   "cell_type": "code",
   "execution_count": null,
   "metadata": {},
   "outputs": [],
   "source": [
    "cat_average = list()\n",
    "for i in np.arange(epochs_cats.shape[0]):\n",
    "    cat_average.append(np.mean(epochs_cats[i], axis=0))\n",
    "cat_average= np.array(cat_average)\n",
    "\n",
    "snake_average = list()\n",
    "for i in np.arange(epochs_snakes.shape[0]):\n",
    "    snake_average.append(np.mean(epochs_snakes[i], axis=0))\n",
    "snake_average= np.array(snake_average)\n",
    "\n",
    "electrode = 0\n"
   ]
  },
  {
   "cell_type": "code",
   "execution_count": null,
   "metadata": {},
   "outputs": [],
   "source": [
    "print(epoch_time.shape)\n",
    "print(epochs_cats.shape)\n",
    "print(cat_average.shape)"
   ]
  },
  {
   "cell_type": "code",
   "execution_count": null,
   "metadata": {},
   "outputs": [],
   "source": [
    "# plot STA\n",
    "plt.figure(figsize=(12,5))\n",
    "plt.plot(epoch_time, cat_average[electrode], '-', label=\"cat\")\n",
    "plt.plot(epoch_time, snake_average[electrode], '-', label=\"snake\")\n",
    "\n",
    "#plt.plot(epoch_time, cat_average[1], '-')\n",
    "#plt.plot(epoch_time, cat_average[2], '-')\n",
    "#plt.plot(epoch_time, cat_average[3], '-')\n",
    "#plt.plot(epoch_time, cat_average[4], '-')\n",
    "\n",
    "plt.xlabel('time (s)'); plt.ylabel('Voltage (v)');\n",
    "plt.legend()"
   ]
  },
  {
   "cell_type": "code",
   "execution_count": null,
   "metadata": {},
   "outputs": [],
   "source": [
    "plt.figure(figsize=(12,5))\n",
    "for i in np.arange(epochs_cats.shape[1]):\n",
    "    plt.plot(epoch_time, epochs_cats[1][i], '-', label=\"cat \"+ str(i))\n",
    "\n",
    "#plt.plot(epoch_time, cat_average[1], '-')\n",
    "#plt.plot(epoch_time, cat_average[2], '-')\n",
    "#plt.plot(epoch_time, cat_average[3], '-')\n",
    "#plt.plot(epoch_time, cat_average[4], '-')\n",
    "\n",
    "plt.xlabel('time (s)'); plt.ylabel('Voltage (v)');\n",
    "plt.legend()"
   ]
  },
  {
   "cell_type": "code",
   "execution_count": null,
   "metadata": {},
   "outputs": [],
   "source": []
  },
  {
   "cell_type": "code",
   "execution_count": null,
   "metadata": {},
   "outputs": [],
   "source": []
  },
  {
   "cell_type": "code",
   "execution_count": null,
   "metadata": {},
   "outputs": [],
   "source": []
  }
 ],
 "metadata": {
  "kernelspec": {
   "display_name": "Python 3",
   "language": "python",
   "name": "python3"
  },
  "language_info": {
   "codemirror_mode": {
    "name": "ipython",
    "version": 3
   },
   "file_extension": ".py",
   "mimetype": "text/x-python",
   "name": "python",
   "nbconvert_exporter": "python",
   "pygments_lexer": "ipython3",
   "version": "3.7.3"
  }
 },
 "nbformat": 4,
 "nbformat_minor": 2
}
